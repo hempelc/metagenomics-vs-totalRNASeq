{
 "cells": [
  {
   "cell_type": "markdown",
   "metadata": {},
   "source": [
    "# Propr Tutorials \n",
    "\n",
    "\n",
    "## Calculating Proportionality  "
   ]
  },
  {
   "cell_type": "markdown",
   "metadata": {},
   "source": [
    "Avoid working with zeros if at all possible. "
   ]
  },
  {
   "cell_type": "code",
   "execution_count": 3,
   "metadata": {},
   "outputs": [],
   "source": [
    "library(propr)\n",
    "set.seed(12345)\n",
    "N <- 100\n",
    "X <- data.frame(a=(1:N), b=(1:N) * rnorm(N, 10, 0.1),\n",
    "                c=(N:1), d=(N:1) * rnorm(N, 10, 1.0))\n"
   ]
  },
  {
   "cell_type": "markdown",
   "metadata": {},
   "source": [
    "Phi (ϕ) has a range of [0,∞). Lower values indicate more proportionality.\n"
   ]
  },
  {
   "cell_type": "code",
   "execution_count": 4,
   "metadata": {},
   "outputs": [
    {
     "name": "stderr",
     "output_type": "stream",
     "text": [
      "Alert: Saving log-ratio transformed counts to @logratio.\n",
      "\n",
      "Alert: Fixing permutations to active random seed.\n",
      "\n",
      "Alert: Use '[' to index proportionality matrix.\n",
      "\n",
      "Alert: Use 'updateCutoffs' to calculate FDR.\n",
      "\n"
     ]
    },
    {
     "data": {
      "text/plain": [
       "Not weighted and not alpha-transformed \n",
       "@counts summary: 100 subjects by 4 features\n",
       "@logratio summary: 100 subjects by 4 features\n",
       "@matrix summary: 4 features by 4 features\n",
       "@pairs summary: index with `[` method\n",
       "@fdr summary: iterations\n",
       "See ?propr for object methods"
      ]
     },
     "metadata": {},
     "output_type": "display_data"
    }
   ],
   "source": [
    "phi <- propr(X, metric = \"phi\", symmetrize = TRUE)\n",
    "phi"
   ]
  },
  {
   "cell_type": "markdown",
   "metadata": {},
   "source": [
    "@counts summary is the orginal N row by D column matrix. Where D is the features being looked at and N is the different samples.\n",
    "@logratio is the orginal matrix log transformed\n",
    "@matrix is the proportionality mertic "
   ]
  },
  {
   "cell_type": "code",
   "execution_count": 5,
   "metadata": {},
   "outputs": [
    {
     "data": {
      "text/html": [
       "<table>\n",
       "<caption>A matrix: 4 × 4 of type dbl</caption>\n",
       "<thead>\n",
       "\t<tr><th></th><th scope=col>a</th><th scope=col>b</th><th scope=col>c</th><th scope=col>d</th></tr>\n",
       "</thead>\n",
       "<tbody>\n",
       "\t<tr><th scope=row>a</th><td>0.0000000000</td><td>0.0001699506</td><td>4.0188916</td><td>3.9903638</td></tr>\n",
       "\t<tr><th scope=row>b</th><td>0.0001699506</td><td>0.0000000000</td><td>4.0164918</td><td>3.9876983</td></tr>\n",
       "\t<tr><th scope=row>c</th><td>4.0188915793</td><td>4.0164918065</td><td>0.0000000</td><td>0.0138053</td></tr>\n",
       "\t<tr><th scope=row>d</th><td>3.9903637651</td><td>3.9876983027</td><td>0.0138053</td><td>0.0000000</td></tr>\n",
       "</tbody>\n",
       "</table>\n"
      ],
      "text/latex": [
       "A matrix: 4 × 4 of type dbl\n",
       "\\begin{tabular}{r|llll}\n",
       "  & a & b & c & d\\\\\n",
       "\\hline\n",
       "\ta & 0.0000000000 & 0.0001699506 & 4.0188916 & 3.9903638\\\\\n",
       "\tb & 0.0001699506 & 0.0000000000 & 4.0164918 & 3.9876983\\\\\n",
       "\tc & 4.0188915793 & 4.0164918065 & 0.0000000 & 0.0138053\\\\\n",
       "\td & 3.9903637651 & 3.9876983027 & 0.0138053 & 0.0000000\\\\\n",
       "\\end{tabular}\n"
      ],
      "text/markdown": [
       "\n",
       "A matrix: 4 × 4 of type dbl\n",
       "\n",
       "| <!--/--> | a | b | c | d |\n",
       "|---|---|---|---|---|\n",
       "| a | 0.0000000000 | 0.0001699506 | 4.0188916 | 3.9903638 |\n",
       "| b | 0.0001699506 | 0.0000000000 | 4.0164918 | 3.9876983 |\n",
       "| c | 4.0188915793 | 4.0164918065 | 0.0000000 | 0.0138053 |\n",
       "| d | 3.9903637651 | 3.9876983027 | 0.0138053 | 0.0000000 |\n",
       "\n"
      ],
      "text/plain": [
       "  a            b            c         d        \n",
       "a 0.0000000000 0.0001699506 4.0188916 3.9903638\n",
       "b 0.0001699506 0.0000000000 4.0164918 3.9876983\n",
       "c 4.0188915793 4.0164918065 0.0000000 0.0138053\n",
       "d 3.9903637651 3.9876983027 0.0138053 0.0000000"
      ]
     },
     "metadata": {},
     "output_type": "display_data"
    }
   ],
   "source": [
    "phi@matrix"
   ]
  },
  {
   "cell_type": "markdown",
   "metadata": {},
   "source": [
    "ρ (rho) range from [−1,1] which great |ρ| indicating greater porpotionality."
   ]
  },
  {
   "cell_type": "code",
   "execution_count": 6,
   "metadata": {},
   "outputs": [
    {
     "name": "stderr",
     "output_type": "stream",
     "text": [
      "Alert: Saving log-ratio transformed counts to @logratio.\n",
      "\n",
      "Alert: Fixing permutations to active random seed.\n",
      "\n",
      "Alert: Use '[' to index proportionality matrix.\n",
      "\n",
      "Alert: Use 'updateCutoffs' to calculate FDR.\n",
      "\n"
     ]
    },
    {
     "data": {
      "text/html": [
       "<table>\n",
       "<caption>A matrix: 4 × 4 of type dbl</caption>\n",
       "<thead>\n",
       "\t<tr><th></th><th scope=col>a</th><th scope=col>b</th><th scope=col>c</th><th scope=col>d</th></tr>\n",
       "</thead>\n",
       "<tbody>\n",
       "\t<tr><th scope=row>a</th><td> 1.0000000</td><td> 0.9999151</td><td>-0.9982060</td><td>-0.9982688</td></tr>\n",
       "\t<tr><th scope=row>b</th><td> 0.9999151</td><td> 1.0000000</td><td>-0.9982822</td><td>-0.9981943</td></tr>\n",
       "\t<tr><th scope=row>c</th><td>-0.9982060</td><td>-0.9982822</td><td> 1.0000000</td><td> 0.9930481</td></tr>\n",
       "\t<tr><th scope=row>d</th><td>-0.9982688</td><td>-0.9981943</td><td> 0.9930481</td><td> 1.0000000</td></tr>\n",
       "</tbody>\n",
       "</table>\n"
      ],
      "text/latex": [
       "A matrix: 4 × 4 of type dbl\n",
       "\\begin{tabular}{r|llll}\n",
       "  & a & b & c & d\\\\\n",
       "\\hline\n",
       "\ta &  1.0000000 &  0.9999151 & -0.9982060 & -0.9982688\\\\\n",
       "\tb &  0.9999151 &  1.0000000 & -0.9982822 & -0.9981943\\\\\n",
       "\tc & -0.9982060 & -0.9982822 &  1.0000000 &  0.9930481\\\\\n",
       "\td & -0.9982688 & -0.9981943 &  0.9930481 &  1.0000000\\\\\n",
       "\\end{tabular}\n"
      ],
      "text/markdown": [
       "\n",
       "A matrix: 4 × 4 of type dbl\n",
       "\n",
       "| <!--/--> | a | b | c | d |\n",
       "|---|---|---|---|---|\n",
       "| a |  1.0000000 |  0.9999151 | -0.9982060 | -0.9982688 |\n",
       "| b |  0.9999151 |  1.0000000 | -0.9982822 | -0.9981943 |\n",
       "| c | -0.9982060 | -0.9982822 |  1.0000000 |  0.9930481 |\n",
       "| d | -0.9982688 | -0.9981943 |  0.9930481 |  1.0000000 |\n",
       "\n"
      ],
      "text/plain": [
       "  a          b          c          d         \n",
       "a  1.0000000  0.9999151 -0.9982060 -0.9982688\n",
       "b  0.9999151  1.0000000 -0.9982822 -0.9981943\n",
       "c -0.9982060 -0.9982822  1.0000000  0.9930481\n",
       "d -0.9982688 -0.9981943  0.9930481  1.0000000"
      ]
     },
     "metadata": {},
     "output_type": "display_data"
    }
   ],
   "source": [
    "rho <- propr(X, metric = \"rho\", ivar = 0)\n",
    "rho@matrix"
   ]
  },
  {
   "cell_type": "markdown",
   "metadata": {},
   "source": [
    "## Choosing a cutoff value\n",
    "Want to choose the largets cutoff value that keeps the flase discovery rate below 0.05."
   ]
  },
  {
   "cell_type": "code",
   "execution_count": 7,
   "metadata": {},
   "outputs": [
    {
     "name": "stderr",
     "output_type": "stream",
     "text": [
      "Alert: Try parallelizing updateCutoffs with ncores > 1.\n",
      "\n"
     ]
    },
    {
     "name": "stdout",
     "output_type": "stream",
     "text": [
      "|------------(25%)----------(50%)----------(75%)----------|\n"
     ]
    },
    {
     "data": {
      "text/plain": [
       "Not weighted and not alpha-transformed \n",
       "@counts summary: 100 subjects by 4 features\n",
       "@logratio summary: 100 subjects by 4 features\n",
       "@matrix summary: 4 features by 4 features\n",
       "@pairs summary: index with `[` method\n",
       "@fdr summary: iterations\n",
       "  cutoff randcounts truecounts FDR\n",
       "1   0.05          0          2   0\n",
       "2   0.35          0          2   0\n",
       "3   0.65          0          2   0\n",
       "4   0.95          0          2   0\n",
       "See ?propr for object methods"
      ]
     },
     "metadata": {},
     "output_type": "display_data"
    }
   ],
   "source": [
    "updateCutoffs(rho, cutoff =  seq(.05, .95, .3))"
   ]
  },
  {
   "cell_type": "markdown",
   "metadata": {},
   "source": [
    "## Real data RNA-seq count data"
   ]
  },
  {
   "cell_type": "markdown",
   "metadata": {},
   "source": [
    "Data set of transcipt counts for 20 toads sampled from two locations.\n",
    "Are going to start by filtering out all transcripts that do not have at least 10 counts in 10 samples."
   ]
  },
  {
   "cell_type": "code",
   "execution_count": 9,
   "metadata": {},
   "outputs": [
    {
     "name": "stderr",
     "output_type": "stream",
     "text": [
      "Alert: Replacing 0s with next smallest value.\n",
      "\n",
      "Alert: Saving log-ratio transformed counts to @logratio.\n",
      "\n",
      "Alert: Using 'select' disables permutation testing.\n",
      "\n"
     ]
    },
    {
     "ename": "ERROR",
     "evalue": "Error: vector memory exhausted (limit reached?)\n",
     "output_type": "error",
     "traceback": [
      "Error: vector memory exhausted (limit reached?)\nTraceback:\n",
      "1. propr(caneToad.counts, metric = \"rho\", select = keep)",
      "2. labRcpp(ncol(lr))"
     ]
    }
   ],
   "source": [
    "data(caneToad.counts)\n",
    "data(caneToad.groups)\n",
    "keep <- apply(caneToad.counts, 2, function(x) sum(x >= 10) >= 10)\n",
    "rho <- propr(caneToad.counts, metric = \"rho\", select = keep) \n",
    "rho"
   ]
  },
  {
   "cell_type": "code",
   "execution_count": null,
   "metadata": {},
   "outputs": [],
   "source": []
  },
  {
   "cell_type": "code",
   "execution_count": null,
   "metadata": {},
   "outputs": [],
   "source": []
  }
 ],
 "metadata": {
  "kernelspec": {
   "display_name": "R",
   "language": "R",
   "name": "ir"
  },
  "language_info": {
   "codemirror_mode": "r",
   "file_extension": ".r",
   "mimetype": "text/x-r-source",
   "name": "R",
   "pygments_lexer": "r",
   "version": "3.6.2"
  }
 },
 "nbformat": 4,
 "nbformat_minor": 4
}
